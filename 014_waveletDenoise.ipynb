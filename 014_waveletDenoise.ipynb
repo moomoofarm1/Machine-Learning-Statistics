{
 "cells": [
  {
   "cell_type": "code",
   "execution_count": 4,
   "id": "5e231323-e0d7-4fc8-8348-e557f05184b5",
   "metadata": {},
   "outputs": [],
   "source": [
    "import numpy as np\n",
    "import pywt\n",
    "import librosa, soundfile\n",
    "from tqdm import tqdm\n",
    "\n",
    "# free sound effects\n",
    "# https://pixabay.com/"
   ]
  },
  {
   "cell_type": "code",
   "execution_count": 11,
   "id": "037ccdae-9c10-410a-a40f-be50f5c8ab97",
   "metadata": {},
   "outputs": [
    {
     "name": "stderr",
     "output_type": "stream",
     "text": [
      "11it [00:06,  1.66it/s]"
     ]
    },
    {
     "name": "stdout",
     "output_type": "stream",
     "text": [
      "hello\n"
     ]
    },
    {
     "name": "stderr",
     "output_type": "stream",
     "text": [
      "\n"
     ]
    }
   ],
   "source": [
    "inputFile = 'freenoisesample.mp3'\n",
    "outputFile = 'filtered_wavelet.wav'\n",
    "y, rate = librosa.load(inputFile, sr=None, mono=False)\n",
    "duration = librosa.get_duration(y=y, sr=rate)\n",
    "\n",
    "# copied from \n",
    "# https://github.com/ap-atul/Audio-Denoising\n",
    "def mad(arr):\n",
    "    \"\"\" Median Absolute Deviation: a \"Robust\" version of standard deviation.\n",
    "        Indices variability of the sample.\n",
    "        https://en.wikipedia.org/wiki/Median_absolute_deviation \n",
    "    \"\"\"\n",
    "    arr = np.ma.array(arr).compressed()\n",
    "    med = np.median(arr)\n",
    "    return np.median(np.abs(arr - med))\n",
    "with soundfile.SoundFile(outputFile, \"w\", samplerate=rate, channels=y.shape[0]) as of:\n",
    "    for block in tqdm(soundfile.blocks(inputFile, int(rate * duration * 0.10))):\n",
    "                coefficients = pywt.wavedec(block, 'db4', mode='per', level=2)\n",
    "\n",
    "                #  getting variance of the input signal\n",
    "                sigma = mad(coefficients[- 1])\n",
    "\n",
    "                # VISU Shrink thresholding by applying the universal threshold proposed by Donoho and Johnstone\n",
    "                thresh = sigma * np.sqrt(2 * np.log(len(block)))\n",
    "\n",
    "                # thresholding using the noise threshold generated\n",
    "                coefficients[1:] = (pywt.threshold(i, value=thresh, mode='soft') for i in coefficients[1:])\n",
    "\n",
    "                # getting the clean signal as in original form and writing to the file\n",
    "                clean = pywt.waverec(coefficients, 'db4', mode='per')\n",
    "                of.write(clean)\n",
    "\n",
    "\n",
    "print(\"hello\")"
   ]
  },
  {
   "cell_type": "code",
   "execution_count": null,
   "id": "e18aaba0-0259-4494-824a-26e300c35bcc",
   "metadata": {},
   "outputs": [],
   "source": []
  }
 ],
 "metadata": {
  "kernelspec": {
   "display_name": "Python 3 (ipykernel)",
   "language": "python",
   "name": "python3"
  },
  "language_info": {
   "codemirror_mode": {
    "name": "ipython",
    "version": 3
   },
   "file_extension": ".py",
   "mimetype": "text/x-python",
   "name": "python",
   "nbconvert_exporter": "python",
   "pygments_lexer": "ipython3",
   "version": "3.10.14"
  }
 },
 "nbformat": 4,
 "nbformat_minor": 5
}
